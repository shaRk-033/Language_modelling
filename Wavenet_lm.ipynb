{
 "cells": [
  {
   "cell_type": "code",
   "execution_count": 3,
   "id": "a1546ca6",
   "metadata": {},
   "outputs": [],
   "source": [
    "import torch\n",
    "import torch.nn.functional as F"
   ]
  },
  {
   "cell_type": "code",
   "execution_count": 180,
   "id": "4272a483",
   "metadata": {},
   "outputs": [],
   "source": [
    "class LinearD:\n",
    "    \n",
    "    def __init__(self,in_features,out_features,bias = True):\n",
    "        \n",
    "        self.weights = torch.randn((in_features,out_features))/(in_features**0.5) # gain 1 for Linear layer, Kaiming initialization\n",
    "        \n",
    "        self.bias = torch.randn((1,out_features)) if bias else None\n",
    "        \n",
    "    def __call__(self,x):\n",
    "        \n",
    "        self.out = x @ self.weights \n",
    "        \n",
    "        if self.bias is not None:\n",
    "            self.out += self.bias\n",
    "        \n",
    "        return self.out\n",
    "    \n",
    "    def parameters(self):\n",
    "        \n",
    "        return [self.weights] + ([self.bias] if self.bias is not None else [])\n"
   ]
  },
  {
   "cell_type": "code",
   "execution_count": 181,
   "id": "19a1f5ac",
   "metadata": {},
   "outputs": [],
   "source": [
    "class BatchNormD:\n",
    "    \n",
    "    def __init__(self, dim, momentum=0.01):\n",
    "        \n",
    "        self.eps = 1e-5\n",
    "        \n",
    "        self.dim = dim\n",
    "        \n",
    "        self.momentum = momentum\n",
    "        \n",
    "        self.gamma = torch.ones((dim))\n",
    "        \n",
    "        self.beta = torch.zeros((dim))\n",
    "        \n",
    "        self.training = True # To signify whether th model is in training or not so as to use cached mean and var or not\n",
    "        \n",
    "        #caching the mean and variance\n",
    "        \n",
    "        self.cache_mean = torch.zeros(dim)\n",
    "        \n",
    "        self.cache_var = torch.ones(dim)\n",
    "        \n",
    "    def __call__(self,x):\n",
    "        \n",
    "        tup = ()\n",
    "        if self.training:\n",
    "            if x.ndim == 2:\n",
    "                tup = (0)\n",
    "            if x.ndim == 3:\n",
    "                tup = (0,1)\n",
    "            xmean = x.mean(tup, keepdim = True)\n",
    "            xvar = x.var(tup, keepdim = True)\n",
    "            \n",
    "            \n",
    "            #Updating the cache values\n",
    "            \n",
    "            self.cache_mean = (1-self.momentum)*self.cache_mean + self.momentum * xmean\n",
    "            \n",
    "            self.cache_var = (1-self.momentum)*self.cache_var + self.momentum * xvar\n",
    "        else:\n",
    "            xmean = self.cache_mean\n",
    "                    \n",
    "            xvar = self.cache_var\n",
    "                    \n",
    "        self.out = self.gamma * (x - xmean)/torch.sqrt(xvar + self.eps) + self.beta\n",
    "            \n",
    "        return self.out\n",
    "    \n",
    "    def parameters(self):\n",
    "        \n",
    "        return [self.gamma,self.beta]\n",
    "        "
   ]
  },
  {
   "cell_type": "code",
   "execution_count": 182,
   "id": "347aba1d",
   "metadata": {},
   "outputs": [],
   "source": [
    "class EmbeddingD:\n",
    "    \n",
    "    def __init__(self, dim1, dim2):\n",
    "        \n",
    "        self.emb = torch.randn((dim1,dim2))\n",
    "    \n",
    "    def __call__(self, x):\n",
    "        \n",
    "        self.out = self.emb[x]\n",
    "        \n",
    "        return self.out\n",
    "    \n",
    "    def parameters(self):\n",
    "        \n",
    "        return [self.emb]"
   ]
  },
  {
   "cell_type": "code",
   "execution_count": 183,
   "id": "8995f5d6",
   "metadata": {},
   "outputs": [],
   "source": [
    "class TanhD:\n",
    "     \n",
    "    def __call__(self, x):\n",
    "        self.out = torch.tanh(x)\n",
    "        return self.out\n",
    "    def parameters(self):\n",
    "        return []"
   ]
  },
  {
   "cell_type": "code",
   "execution_count": 184,
   "id": "61bcd6f4",
   "metadata": {},
   "outputs": [],
   "source": [
    "class SequentialD:\n",
    "    \n",
    "    def __init__(self, layers):\n",
    "        \n",
    "        self.layers = layers\n",
    "    \n",
    "    def __call__(self, x):\n",
    "        \n",
    "        for layer in self.layers:\n",
    "            \n",
    "            x = layer(x)\n",
    "            \n",
    "        self.out = x\n",
    "        \n",
    "        return self.out\n",
    "    \n",
    "    def parameters(self):\n",
    "        \n",
    "        return [p for layer in self.layers for p in layer.parameters()]\n"
   ]
  },
  {
   "cell_type": "code",
   "execution_count": 185,
   "id": "f2454b7b",
   "metadata": {},
   "outputs": [],
   "source": [
    "class FlattenD:\n",
    "    \n",
    "    def __init__(self, n):\n",
    "        self.n = n\n",
    "    \n",
    "    def __call__(self,x):\n",
    "        \n",
    "        a,b,c = x.shape\n",
    "        \n",
    "        x = x.view(a, b//self.n, c*self.n)\n",
    "        \n",
    "        if x.shape[1] == 1:\n",
    "            x = x.squeeze(1)\n",
    "        \n",
    "        self.out = x\n",
    "        \n",
    "        return self.out\n",
    "    def parameters(self):\n",
    "        \n",
    "        return []"
   ]
  },
  {
   "cell_type": "code",
   "execution_count": 186,
   "id": "27db1045",
   "metadata": {},
   "outputs": [],
   "source": [
    "import random\n",
    "\n",
    "words = open('/Users/vijayshekar/Desktop/names.txt','r').read().splitlines()\n",
    "\n",
    "stoi = {x:y+1 for y,x in enumerate(sorted(list(set(''.join(words)))))}\n",
    "\n",
    "stoi['.'] = 0\n",
    "\n",
    "len(stoi)\n",
    "\n",
    "itos = {y+1:x for y,x in enumerate(sorted(list(set(''.join(words)))))}\n",
    "itos[0] = '.'\n",
    "\n",
    "block = 8\n",
    "\n",
    "def build_dataset(words):\n",
    "  X = []\n",
    "  Y = []\n",
    "\n",
    "  for w in words:\n",
    "    context = [0] * block\n",
    "    for ch in w + '.':\n",
    "      ix = stoi[ch]\n",
    "      X.append(context)\n",
    "      Y.append(ix)\n",
    "      context = context[1:] + [ix]\n",
    "\n",
    "  X = torch.tensor(X)\n",
    "  Y = torch.tensor(Y)\n",
    "  return X, Y\n",
    "\n",
    "\n",
    "\n",
    "random.shuffle(words)\n",
    "n1 = int(0.8*len(words))\n",
    "n2 = int(0.9*len(words))\n",
    "\n",
    "Xtr,  Ytr  = build_dataset(words[:n1])     \n",
    "Xdev, Ydev = build_dataset(words[n1:n2])   \n",
    "Xte,  Yte  = build_dataset(words[n2:])     "
   ]
  },
  {
   "cell_type": "code",
   "execution_count": 187,
   "id": "53487030",
   "metadata": {},
   "outputs": [
    {
     "data": {
      "text/plain": [
       "torch.Size([182532, 8])"
      ]
     },
     "execution_count": 187,
     "metadata": {},
     "output_type": "execute_result"
    }
   ],
   "source": [
    "Xtr.shape"
   ]
  },
  {
   "cell_type": "code",
   "execution_count": 188,
   "id": "98304957",
   "metadata": {},
   "outputs": [
    {
     "name": "stdout",
     "output_type": "stream",
     "text": [
      "76579\n"
     ]
    }
   ],
   "source": [
    "dim1 = len(stoi)\n",
    "dim2 = 24\n",
    "n_hidden = 128\n",
    "\n",
    "model = SequentialD([\n",
    "    EmbeddingD(dim1,dim2),\n",
    "    FlattenD(2),LinearD(2*dim2, n_hidden,bias = False),BatchNormD(n_hidden),TanhD(),## Not using bias in Linear layer \n",
    "    FlattenD(2),LinearD(2*n_hidden, n_hidden,bias = False),BatchNormD(n_hidden),TanhD(),## because we add it through the\n",
    "    FlattenD(2),LinearD(2*n_hidden, n_hidden,bias = False),BatchNormD(n_hidden),TanhD(),## BatchNormD layer\n",
    "    LinearD(n_hidden,dim1)\n",
    "])\n",
    "with torch.no_grad():\n",
    "    model.layers[-1].weights *= 0.1 \n",
    "parameters = model.parameters()\n",
    "print(sum(p.nelement() for p in parameters)) \n",
    "for p in parameters:\n",
    "  p.requires_grad = True"
   ]
  },
  {
   "cell_type": "code",
   "execution_count": 189,
   "id": "16f954a3",
   "metadata": {},
   "outputs": [
    {
     "name": "stdout",
     "output_type": "stream",
     "text": [
      "      0/ 200000: 3.7938\n",
      "  10000/ 200000: 2.0183\n",
      "  20000/ 200000: 2.3336\n",
      "  30000/ 200000: 2.4301\n",
      "  40000/ 200000: 2.1942\n",
      "  50000/ 200000: 1.8589\n",
      "  60000/ 200000: 1.6826\n",
      "  70000/ 200000: 1.6467\n",
      "  80000/ 200000: 1.9898\n",
      "  90000/ 200000: 2.1608\n",
      " 100000/ 200000: 2.1964\n",
      " 110000/ 200000: 1.9948\n",
      " 120000/ 200000: 1.7495\n",
      " 130000/ 200000: 2.1519\n",
      " 140000/ 200000: 2.3536\n",
      " 150000/ 200000: 2.0677\n",
      " 160000/ 200000: 2.1820\n",
      " 170000/ 200000: 1.5564\n",
      " 180000/ 200000: 2.0150\n",
      " 190000/ 200000: 1.8826\n"
     ]
    }
   ],
   "source": [
    "max_steps = 200000\n",
    "batch_size = 32\n",
    "lossi = []\n",
    "\n",
    "for i in range(max_steps):\n",
    "\n",
    "  idx = torch.randint(0, Xtr.shape[0], (batch_size,))\n",
    "  Xb, Yb = Xtr[idx], Ytr[idx] \n",
    "\n",
    "  logits = model(Xb)\n",
    "  loss = F.cross_entropy(logits, Yb)\n",
    "  \n",
    "  for p in parameters:\n",
    "    p.grad = None\n",
    "  loss.backward()\n",
    "  \n",
    "  lr = 0.1 if i < 150000 else 0.01 \n",
    "  for p in parameters:\n",
    "    p.data += -lr * p.grad\n",
    "\n",
    "  if i % 10000 == 0: \n",
    "    print(f'{i:7d}/{max_steps:7d}: {loss.item():.4f}')\n",
    "  lossi.append(loss.log10().item())\n"
   ]
  },
  {
   "cell_type": "code",
   "execution_count": 191,
   "id": "aaa2ec88",
   "metadata": {},
   "outputs": [],
   "source": [
    "import matplotlib.pyplot as plt"
   ]
  },
  {
   "cell_type": "code",
   "execution_count": 192,
   "id": "aa3e1877",
   "metadata": {},
   "outputs": [
    {
     "data": {
      "text/plain": [
       "[<matplotlib.lines.Line2D at 0x11ab1a140>]"
      ]
     },
     "execution_count": 192,
     "metadata": {},
     "output_type": "execute_result"
    },
    {
     "data": {
      "image/png": "[encoded data removed]",
      "text/plain": [
       "<Figure size 640x480 with 1 Axes>"
      ]
     },
     "metadata": {},
     "output_type": "display_data"
    }
   ],
   "source": [
    "plt.plot(torch.tensor(lossi).view(-1, 1000).mean(1))"
   ]
  },
  {
   "cell_type": "code",
   "execution_count": 193,
   "id": "10a30771",
   "metadata": {},
   "outputs": [],
   "source": [
    "for layer in model.layers:\n",
    "    layer.training = False"
   ]
  },
  {
   "cell_type": "code",
   "execution_count": 197,
   "id": "86c10858",
   "metadata": {},
   "outputs": [
    {
     "name": "stdout",
     "output_type": "stream",
     "text": [
      "vedris\n",
      "storm\n",
      "marlene\n",
      "mitrett\n",
      "quavion\n",
      "baki\n",
      "limitty\n",
      "maddison\n",
      "mirah\n",
      "nori\n",
      "mahu\n",
      "delana\n",
      "aubreelynn\n",
      "jakair\n",
      "divine\n",
      "karlaya\n",
      "zamarie\n",
      "jacly\n",
      "shanyah\n",
      "vienne\n"
     ]
    }
   ],
   "source": [
    "for i in range(20):\n",
    "    context = [0]*8\n",
    "    word = \"\"\n",
    "    while True:\n",
    "        x = model(torch.tensor([context]))\n",
    "        x = F.softmax(x,dim = 1)\n",
    "        idx = torch.multinomial(x, num_samples = 1).item()\n",
    "        if idx==0:\n",
    "            print(word)\n",
    "            break\n",
    "        word = word + itos[idx]\n",
    "        context = context[1:] + [idx]\n",
    "        \n",
    "            "
   ]
  },
  {
   "cell_type": "code",
   "execution_count": null,
   "id": "ce7423f7",
   "metadata": {},
   "outputs": [],
   "source": []
  }
 ],
 "metadata": {
  "kernelspec": {
   "display_name": "Python 3 (ipykernel)",
   "language": "python",
   "name": "python3"
  },
  "language_info": {
   "codemirror_mode": {
    "name": "ipython",
    "version": 3
   },
   "file_extension": ".py",
   "mimetype": "text/x-python",
   "name": "python",
   "nbconvert_exporter": "python",
   "pygments_lexer": "ipython3",
   "version": "3.10.6"
  },
  "toc": {
   "base_numbering": 1,
   "nav_menu": {},
   "number_sections": true,
   "sideBar": true,
   "skip_h1_title": false,
   "title_cell": "Table of Contents",
   "title_sidebar": "Contents",
   "toc_cell": false,
   "toc_position": {},
   "toc_section_display": true,
   "toc_window_display": false
  }
 },
 "nbformat": 4,
 "nbformat_minor": 5
}
