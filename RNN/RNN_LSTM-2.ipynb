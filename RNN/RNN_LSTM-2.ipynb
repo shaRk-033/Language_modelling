{
  "cells": [
    {
      "cell_type": "code",
      "execution_count": null,
      "id": "fc26d9f9",
      "metadata": {
        "id": "fc26d9f9"
      },
      "outputs": [],
      "source": [
        "import torch\n",
        "import torch.nn as nn"
      ]
    },
    {
      "cell_type": "code",
      "source": [
        "from google.colab import drive\n",
        "drive.mount('/content/drive')"
      ],
      "metadata": {
        "colab": {
          "base_uri": "https://localhost:8080/"
        },
        "id": "5j7Dka72cYHU",
        "outputId": "d523d4bf-8fcc-4ef7-b3c4-cd3702e49880"
      },
      "id": "5j7Dka72cYHU",
      "execution_count": null,
      "outputs": [
        {
          "output_type": "stream",
          "name": "stdout",
          "text": [
            "Mounted at /content/drive\n"
          ]
        }
      ]
    },
    {
      "cell_type": "code",
      "execution_count": null,
      "id": "ec09b9e9",
      "metadata": {
        "id": "ec09b9e9"
      },
      "outputs": [],
      "source": [
        "import torch.nn.functional as F"
      ]
    },
    {
      "cell_type": "code",
      "source": [
        "from torch.optim import Adam"
      ],
      "metadata": {
        "id": "-40N8uAoLzFy"
      },
      "id": "-40N8uAoLzFy",
      "execution_count": null,
      "outputs": []
    },
    {
      "cell_type": "code",
      "execution_count": null,
      "id": "c280f187",
      "metadata": {
        "id": "c280f187"
      },
      "outputs": [],
      "source": [
        "class RecurrentNet(nn.Module):\n",
        "\n",
        "    def __init__(self, vocab_size, hidden_size, n, dropout):\n",
        "        super(RecurrentNet, self).__init__()\n",
        "        self.vocab_size = vocab_size\n",
        "        self.hidden_size = hidden_size\n",
        "        self.n = n\n",
        "        self.dropout = dropout\n",
        "\n",
        "        self.layers = nn.ModuleList()\n",
        "        for i in range(self.n):\n",
        "            layer = {}\n",
        "            layer['xh'] = nn.Linear(self.vocab_size if i == 0 else self.hidden_size, self.hidden_size)\n",
        "            layer['hh'] = nn.Linear(self.hidden_size, self.hidden_size)\n",
        "            self.layers.append(nn.ModuleDict(layer))\n",
        "\n",
        "        self.Why = nn.Linear(self.hidden_size, self.vocab_size)\n",
        "        self.dropout_layer = nn.Dropout(self.dropout) if self.dropout > 0 else None\n",
        "\n",
        "    def forward(self, x, hidden_states):\n",
        "        outputs = []\n",
        "        for i in range(self.n):\n",
        "            inp = x if i == 0 else outputs[-1]\n",
        "            if self.dropout_layer and i > 0:\n",
        "                inp = self.dropout_layer(inp)\n",
        "\n",
        "            out = torch.tanh(self.layers[i]['hh'](hidden_states[i]) + self.layers[i]['xh'](inp))\n",
        "            outputs.append(out)\n",
        "\n",
        "        top_h = outputs[-1]\n",
        "        if self.dropout_layer:\n",
        "            top_h = self.dropout_layer(top_h)\n",
        "\n",
        "        logits = self.Why(top_h)\n",
        "        s_logits = logits/0.8\n",
        "        logs = nn.LogSoftmax(dim=-1)\n",
        "        out = logs(s_logits)\n",
        "        outputs.append(out)\n",
        "        return out, outputs\n",
        "\n",
        "\n"
      ]
    },
    {
      "cell_type": "code",
      "source": [
        "def initialize_hidden_states(batch_size, hidden_size, num_layers):\n",
        "    return [torch.zeros(batch_size, hidden_size) for _ in range(num_layers)]"
      ],
      "metadata": {
        "id": "LPoqmdttNM3K"
      },
      "id": "LPoqmdttNM3K",
      "execution_count": null,
      "outputs": []
    },
    {
      "cell_type": "code",
      "source": [
        "pip install python-docx"
      ],
      "metadata": {
        "colab": {
          "base_uri": "https://localhost:8080/"
        },
        "id": "VbDT67cRdpfm",
        "outputId": "415d9278-4719-48d5-baed-b22c2eaca0a4"
      },
      "id": "VbDT67cRdpfm",
      "execution_count": null,
      "outputs": [
        {
          "output_type": "stream",
          "name": "stdout",
          "text": [
            "Requirement already satisfied: python-docx in /usr/local/lib/python3.10/dist-packages (1.1.2)\n",
            "Requirement already satisfied: lxml>=3.1.0 in /usr/local/lib/python3.10/dist-packages (from python-docx) (4.9.4)\n",
            "Requirement already satisfied: typing-extensions>=4.9.0 in /usr/local/lib/python3.10/dist-packages (from python-docx) (4.11.0)\n"
          ]
        }
      ]
    },
    {
      "cell_type": "code",
      "execution_count": null,
      "id": "92edcddb",
      "metadata": {
        "id": "92edcddb"
      },
      "outputs": [],
      "source": [
        "import docx\n",
        "\n",
        "doc = docx.Document('/content/drive/MyDrive/y-comb-list.docx')\n",
        "text = ''\n",
        "for para in doc.paragraphs:\n",
        "    text += para.text\n",
        "    if(text[-1]!='.'):text+='.'"
      ]
    },
    {
      "cell_type": "code",
      "execution_count": null,
      "id": "92ebe6d4",
      "metadata": {
        "id": "92ebe6d4"
      },
      "outputs": [],
      "source": [
        "stoi = {x:y+1 for y,x in enumerate(sorted(list(set(''.join(text)))))}\n",
        "\n",
        "\n",
        "len(stoi)\n",
        "\n",
        "itos = {y+1:x for y,x in enumerate(sorted(list(set(''.join(text)))))}\n"
      ]
    },
    {
      "cell_type": "code",
      "source": [
        "stoi"
      ],
      "metadata": {
        "colab": {
          "base_uri": "https://localhost:8080/"
        },
        "id": "HabhJB8lcQ6O",
        "outputId": "0726e501-7bb5-43bf-8fef-66a02acf1670"
      },
      "id": "HabhJB8lcQ6O",
      "execution_count": null,
      "outputs": [
        {
          "output_type": "execute_result",
          "data": {
            "text/plain": [
              "{'\\t': 1,\n",
              " ' ': 2,\n",
              " '!': 3,\n",
              " '\"': 4,\n",
              " '#': 5,\n",
              " '$': 6,\n",
              " '%': 7,\n",
              " '&': 8,\n",
              " \"'\": 9,\n",
              " '(': 10,\n",
              " ')': 11,\n",
              " '*': 12,\n",
              " '+': 13,\n",
              " ',': 14,\n",
              " '-': 15,\n",
              " '.': 16,\n",
              " '/': 17,\n",
              " '0': 18,\n",
              " '1': 19,\n",
              " '2': 20,\n",
              " '3': 21,\n",
              " '4': 22,\n",
              " '5': 23,\n",
              " '6': 24,\n",
              " '7': 25,\n",
              " '8': 26,\n",
              " '9': 27,\n",
              " ':': 28,\n",
              " ';': 29,\n",
              " '=': 30,\n",
              " '?': 31,\n",
              " 'A': 32,\n",
              " 'B': 33,\n",
              " 'C': 34,\n",
              " 'D': 35,\n",
              " 'E': 36,\n",
              " 'F': 37,\n",
              " 'G': 38,\n",
              " 'H': 39,\n",
              " 'I': 40,\n",
              " 'J': 41,\n",
              " 'K': 42,\n",
              " 'L': 43,\n",
              " 'M': 44,\n",
              " 'N': 45,\n",
              " 'O': 46,\n",
              " 'P': 47,\n",
              " 'Q': 48,\n",
              " 'R': 49,\n",
              " 'S': 50,\n",
              " 'T': 51,\n",
              " 'U': 52,\n",
              " 'V': 53,\n",
              " 'W': 54,\n",
              " 'X': 55,\n",
              " 'Y': 56,\n",
              " 'Z': 57,\n",
              " '[': 58,\n",
              " ']': 59,\n",
              " '^': 60,\n",
              " 'a': 61,\n",
              " 'b': 62,\n",
              " 'c': 63,\n",
              " 'd': 64,\n",
              " 'e': 65,\n",
              " 'f': 66,\n",
              " 'g': 67,\n",
              " 'h': 68,\n",
              " 'i': 69,\n",
              " 'j': 70,\n",
              " 'k': 71,\n",
              " 'l': 72,\n",
              " 'm': 73,\n",
              " 'n': 74,\n",
              " 'o': 75,\n",
              " 'p': 76,\n",
              " 'q': 77,\n",
              " 'r': 78,\n",
              " 's': 79,\n",
              " 't': 80,\n",
              " 'u': 81,\n",
              " 'v': 82,\n",
              " 'w': 83,\n",
              " 'x': 84,\n",
              " 'y': 85,\n",
              " 'z': 86,\n",
              " 'é': 87,\n",
              " '—': 88}"
            ]
          },
          "metadata": {},
          "execution_count": 86
        }
      ]
    },
    {
      "cell_type": "code",
      "execution_count": null,
      "id": "fc37c269",
      "metadata": {
        "colab": {
          "base_uri": "https://localhost:8080/",
          "height": 137
        },
        "id": "fc37c269",
        "outputId": "31d257e6-41c6-4016-ba2f-031a94904166"
      },
      "outputs": [
        {
          "output_type": "execute_result",
          "data": {
            "text/plain": [
              "\"Do Things that Don't Scale.July 2013.One of the most common types of advice we give at Y Combinator is to do things that don't scale. A lot of would-be founders believe that startups either take off or don't. You build something, make it available, and if you've made a better mousetrap, people beat a path to your door as promised. Or they don't, in which case the market must not exist. [1].Actually startups take off because the founders make them take off. There may be a handful that just grew by themselves, but usually it takes some sort of push to get them going. A good metaphor would be the cranks that car engines had before they got electric starters. Once the engine was going, it would keep going, but there was a separate and laborious process to get it going.Recruit.The most common unscalable thing founders have to do at the start is to recruit users manually. Nearly all startups have to. You can't wait for users to come to you. You have to go out and get them.Stripe is one of th\""
            ],
            "application/vnd.google.colaboratory.intrinsic+json": {
              "type": "string"
            }
          },
          "metadata": {},
          "execution_count": 58
        }
      ],
      "source": [
        "text[:1000]"
      ]
    },
    {
      "cell_type": "code",
      "execution_count": null,
      "id": "2b8122c3",
      "metadata": {
        "id": "2b8122c3"
      },
      "outputs": [],
      "source": [
        "x = [stoi[x] for x in text[:20]]\n",
        "y = [stoi[x] for x in text[1:21]]"
      ]
    },
    {
      "cell_type": "code",
      "execution_count": null,
      "id": "a7c2b255",
      "metadata": {
        "id": "a7c2b255"
      },
      "outputs": [],
      "source": [
        "x = torch.tensor(x)"
      ]
    },
    {
      "cell_type": "code",
      "execution_count": null,
      "id": "756f5ed7",
      "metadata": {
        "id": "756f5ed7",
        "colab": {
          "base_uri": "https://localhost:8080/"
        },
        "outputId": "f3a83ba1-d350-49d6-908f-2ed91557ab64"
      },
      "outputs": [
        {
          "output_type": "execute_result",
          "data": {
            "text/plain": [
              "torch.Size([20])"
            ]
          },
          "metadata": {},
          "execution_count": 61
        }
      ],
      "source": [
        "y = torch.tensor(y)\n",
        "y.shape"
      ]
    },
    {
      "cell_type": "code",
      "execution_count": null,
      "id": "3a74266e",
      "metadata": {
        "id": "3a74266e"
      },
      "outputs": [],
      "source": [
        "oneh = F.one_hot(x, num_classes = len(stoi)).float()"
      ]
    },
    {
      "cell_type": "code",
      "execution_count": null,
      "id": "399538d3",
      "metadata": {
        "id": "399538d3",
        "outputId": "2161c155-b49a-4c50-89e2-d2b979877e28",
        "colab": {
          "base_uri": "https://localhost:8080/"
        }
      },
      "outputs": [
        {
          "output_type": "execute_result",
          "data": {
            "text/plain": [
              "torch.Size([20, 88])"
            ]
          },
          "metadata": {},
          "execution_count": 63
        }
      ],
      "source": [
        "oneh.shape"
      ]
    },
    {
      "cell_type": "code",
      "execution_count": null,
      "id": "666e092f",
      "metadata": {
        "id": "666e092f"
      },
      "outputs": [],
      "source": [
        "model = RecurrentNet(len(stoi), 256, 2, 0.5)"
      ]
    },
    {
      "cell_type": "code",
      "execution_count": null,
      "id": "59cf71b9",
      "metadata": {
        "id": "59cf71b9"
      },
      "outputs": [],
      "source": [
        "for p in model.parameters():\n",
        "            if p.dim() > 1:\n",
        "                nn.init.xavier_uniform_(p)"
      ]
    },
    {
      "cell_type": "code",
      "source": [
        "# device = torch.device(\"cuda\" if torch.cuda.is_available() else \"cpu\")\n",
        "# model1 = model1.to(device)"
      ],
      "metadata": {
        "id": "MbWLW7vUfW-a"
      },
      "id": "MbWLW7vUfW-a",
      "execution_count": null,
      "outputs": []
    },
    {
      "cell_type": "code",
      "execution_count": null,
      "id": "05671752",
      "metadata": {
        "colab": {
          "base_uri": "https://localhost:8080/"
        },
        "id": "05671752",
        "outputId": "1fac4c80-9dc5-4a2b-e5fd-20021d997f9b"
      },
      "outputs": [
        {
          "output_type": "stream",
          "name": "stdout",
          "text": [
            "242776\n"
          ]
        }
      ],
      "source": [
        "sum = 0\n",
        "for p in model.parameters():\n",
        "    if(len(p.shape)>1):sum += p.shape[0]*p.shape[1]\n",
        "    else:sum += p.shape[0]\n",
        "print(sum)"
      ]
    },
    {
      "cell_type": "code",
      "source": [
        "loss_cache = []\n",
        "epochs_cache = []"
      ],
      "metadata": {
        "id": "oB6KV6Ng67T8"
      },
      "id": "oB6KV6Ng67T8",
      "execution_count": null,
      "outputs": []
    },
    {
      "cell_type": "code",
      "execution_count": null,
      "id": "8a603a3f",
      "metadata": {
        "id": "8a603a3f"
      },
      "outputs": [],
      "source": [
        "def train(model, text, stoi, itos, bs, epochs, lr, loss_cache, epochs_cache):\n",
        "\n",
        "    text_indices = [stoi[char] for char in text]\n",
        "\n",
        "    for epoch in range(epochs):\n",
        "        ix = int(torch.randint(0, len(text), (1,)))\n",
        "        hidden_states = initialize_hidden_states(1, model.hidden_size, model.n)\n",
        "        if ix + bs < len(text_indices) - 1:\n",
        "            x = torch.tensor(text_indices[ix:ix+bs])-1\n",
        "            y_true = torch.tensor(text_indices[ix+1:ix+bs+1])-1\n",
        "            logits = []\n",
        "            for i in range(bs):\n",
        "              oneh = F.one_hot(x[i], num_classes=len(stoi)).float()\n",
        "              logit, hidden_states = model(oneh, hidden_states)\n",
        "              logits.append(logit)\n",
        "            logits = (torch.cat(logits, dim = 0))\n",
        "            loss = F.cross_entropy(logits, y_true)\n",
        "\n",
        "            with torch.no_grad():\n",
        "              for p in model.parameters():\n",
        "                  p.grad = None\n",
        "            loss_cache.append(loss.item())\n",
        "            epochs_cache.append(epoch)\n",
        "            loss.backward()\n",
        "\n",
        "            with torch.no_grad():\n",
        "              for p in model.parameters():\n",
        "                if p.grad is not None:\n",
        "                  p.data += -lr*p.grad\n",
        "\n",
        "\n",
        "            if (epoch) % 1000 == 0:\n",
        "                print(f\"Epoch [{epoch+1}/{epochs}], Loss: {loss.item()}\")\n"
      ]
    },
    {
      "cell_type": "code",
      "execution_count": null,
      "id": "35eaa9eb",
      "metadata": {
        "colab": {
          "base_uri": "https://localhost:8080/"
        },
        "id": "35eaa9eb",
        "outputId": "27b5157a-6840-4e02-d464-132335d8e42d"
      },
      "outputs": [
        {
          "output_type": "stream",
          "name": "stdout",
          "text": [
            "Epoch [1/40000], Loss: 5.109608173370361\n",
            "Epoch [1001/40000], Loss: 2.8962416648864746\n",
            "Epoch [2001/40000], Loss: 2.84354829788208\n",
            "Epoch [3001/40000], Loss: 2.503660202026367\n",
            "Epoch [4001/40000], Loss: 2.592172145843506\n",
            "Epoch [5001/40000], Loss: 2.4172792434692383\n",
            "Epoch [6001/40000], Loss: 2.0611226558685303\n",
            "Epoch [7001/40000], Loss: 2.7550463676452637\n",
            "Epoch [8001/40000], Loss: 2.636953830718994\n",
            "Epoch [9001/40000], Loss: 2.6404354572296143\n",
            "Epoch [10001/40000], Loss: 2.1108481884002686\n",
            "Epoch [11001/40000], Loss: 2.465562105178833\n",
            "Epoch [12001/40000], Loss: 2.3402271270751953\n",
            "Epoch [13001/40000], Loss: 2.219975709915161\n",
            "Epoch [14001/40000], Loss: 2.2328696250915527\n",
            "Epoch [15001/40000], Loss: 2.619492292404175\n",
            "Epoch [16001/40000], Loss: 2.0909955501556396\n",
            "Epoch [17001/40000], Loss: 2.566521644592285\n",
            "Epoch [18001/40000], Loss: 2.5214121341705322\n",
            "Epoch [19001/40000], Loss: 2.1283276081085205\n",
            "Epoch [20001/40000], Loss: 2.7904622554779053\n",
            "Epoch [21001/40000], Loss: 2.044032335281372\n",
            "Epoch [22001/40000], Loss: 2.5421483516693115\n",
            "Epoch [23001/40000], Loss: 2.2543582916259766\n",
            "Epoch [24001/40000], Loss: 2.758202314376831\n",
            "Epoch [25001/40000], Loss: 2.5909690856933594\n",
            "Epoch [26001/40000], Loss: 2.7812516689300537\n",
            "Epoch [27001/40000], Loss: 2.283644199371338\n",
            "Epoch [28001/40000], Loss: 1.9711014032363892\n",
            "Epoch [29001/40000], Loss: 2.6528537273406982\n",
            "Epoch [30001/40000], Loss: 2.880021333694458\n",
            "Epoch [31001/40000], Loss: 2.850989580154419\n",
            "Epoch [32001/40000], Loss: 2.311332941055298\n",
            "Epoch [33001/40000], Loss: 2.498159170150757\n",
            "Epoch [34001/40000], Loss: 2.291429281234741\n",
            "Epoch [35001/40000], Loss: 2.227861166000366\n",
            "Epoch [36001/40000], Loss: 2.046912670135498\n",
            "Epoch [37001/40000], Loss: 2.3293073177337646\n",
            "Epoch [38001/40000], Loss: 1.798814058303833\n",
            "Epoch [39001/40000], Loss: 2.6507415771484375\n"
          ]
        }
      ],
      "source": [
        "train(model, text, stoi, itos, 32, 40000, 0.01, loss_cache, epochs_cache)"
      ]
    },
    {
      "cell_type": "code",
      "source": [
        "import matplotlib.pyplot as plt\n",
        "import numpy as np"
      ],
      "metadata": {
        "id": "jcb2lEEa7y3H"
      },
      "id": "jcb2lEEa7y3H",
      "execution_count": null,
      "outputs": []
    },
    {
      "cell_type": "code",
      "source": [
        "def moving_average(data, window_size):\n",
        "    return np.convolve(data, np.ones(window_size) / window_size, mode='valid')\n",
        "window_size = 100\n",
        "smoothed_loss = moving_average(loss_cache, window_size)\n",
        "smoothed_epochs = moving_average(epochs_cache, window_size)\n",
        "\n",
        "plt.plot(smoothed_epochs, smoothed_loss)\n",
        "plt.xlabel('Epoch')\n",
        "plt.ylabel('Loss')\n",
        "plt.title('Training Loss Over Epochs')\n",
        "plt.show()\n"
      ],
      "metadata": {
        "colab": {
          "base_uri": "https://localhost:8080/",
          "height": 472
        },
        "id": "b5LCAamZ7243",
        "outputId": "e4bcd703-f499-4394-e6ca-b5cf915f2b18"
      },
      "id": "b5LCAamZ7243",
      "execution_count": null,
      "outputs": [
        {
          "output_type": "display_data",
          "data": {
            "text/plain": [
              "<Figure size 640x480 with 1 Axes>"
            ],
            "image/png": "[encoded data removed]"
          },
          "metadata": {}
        }
      ]
    },
    {
      "cell_type": "code",
      "source": [
        "sample = \"\"\n",
        "seq = 'Company '\n",
        "hidden_states = [torch.zeros(1, 256) for i in range(2)]\n",
        "while(len(seq)<10000):\n",
        "   x = torch.tensor([stoi[i] for i in seq])-1\n",
        "   for i in range(len(seq)):\n",
        "    oneh = F.one_hot(x[i], num_classes = len(stoi)).float()\n",
        "\n",
        "    out,hidden_states = model(oneh,hidden_states)\n",
        "    exp_probs = torch.exp(out)\n",
        "    # Normalize to obtain the softmax probabilities\n",
        "    softmax_probs = exp_probs / torch.sum(exp_probs, dim=-1, keepdim=True)\n",
        "   nx = itos[int(torch.multinomial(softmax_probs,num_samples = 1)) + 1]\n",
        "   seq += nx\n",
        "\n",
        "print(seq)\n"
      ],
      "metadata": {
        "id": "5F09XSXU51oL",
        "colab": {
          "base_uri": "https://localhost:8080/",
          "height": 350
        },
        "outputId": "c019ae6a-87dd-4bd9-f573-04cbfe207413"
      },
      "id": "5F09XSXU51oL",
      "execution_count": null,
      "outputs": [
        {
          "output_type": "error",
          "ename": "KeyboardInterrupt",
          "evalue": "",
          "traceback": [
            "\u001b[0;31m---------------------------------------------------------------------------\u001b[0m",
            "\u001b[0;31mKeyboardInterrupt\u001b[0m                         Traceback (most recent call last)",
            "\u001b[0;32m<ipython-input-89-e93606098829>\u001b[0m in \u001b[0;36m<cell line: 4>\u001b[0;34m()\u001b[0m\n\u001b[1;32m      7\u001b[0m     \u001b[0moneh\u001b[0m \u001b[0;34m=\u001b[0m \u001b[0mF\u001b[0m\u001b[0;34m.\u001b[0m\u001b[0mone_hot\u001b[0m\u001b[0;34m(\u001b[0m\u001b[0mx\u001b[0m\u001b[0;34m[\u001b[0m\u001b[0mi\u001b[0m\u001b[0;34m]\u001b[0m\u001b[0;34m,\u001b[0m \u001b[0mnum_classes\u001b[0m \u001b[0;34m=\u001b[0m \u001b[0mlen\u001b[0m\u001b[0;34m(\u001b[0m\u001b[0mstoi\u001b[0m\u001b[0;34m)\u001b[0m\u001b[0;34m)\u001b[0m\u001b[0;34m.\u001b[0m\u001b[0mfloat\u001b[0m\u001b[0;34m(\u001b[0m\u001b[0;34m)\u001b[0m\u001b[0;34m\u001b[0m\u001b[0;34m\u001b[0m\u001b[0m\n\u001b[1;32m      8\u001b[0m \u001b[0;34m\u001b[0m\u001b[0m\n\u001b[0;32m----> 9\u001b[0;31m     \u001b[0mout\u001b[0m\u001b[0;34m,\u001b[0m\u001b[0mhidden_states\u001b[0m \u001b[0;34m=\u001b[0m \u001b[0mmodel\u001b[0m\u001b[0;34m(\u001b[0m\u001b[0moneh\u001b[0m\u001b[0;34m,\u001b[0m\u001b[0mhidden_states\u001b[0m\u001b[0;34m)\u001b[0m\u001b[0;34m\u001b[0m\u001b[0;34m\u001b[0m\u001b[0m\n\u001b[0m\u001b[1;32m     10\u001b[0m     \u001b[0mexp_probs\u001b[0m \u001b[0;34m=\u001b[0m \u001b[0mtorch\u001b[0m\u001b[0;34m.\u001b[0m\u001b[0mexp\u001b[0m\u001b[0;34m(\u001b[0m\u001b[0mout\u001b[0m\u001b[0;34m)\u001b[0m\u001b[0;34m\u001b[0m\u001b[0;34m\u001b[0m\u001b[0m\n\u001b[1;32m     11\u001b[0m     \u001b[0;31m# Normalize to obtain the softmax probabilities\u001b[0m\u001b[0;34m\u001b[0m\u001b[0;34m\u001b[0m\u001b[0m\n",
            "\u001b[0;32m/usr/local/lib/python3.10/dist-packages/torch/nn/modules/module.py\u001b[0m in \u001b[0;36m_wrapped_call_impl\u001b[0;34m(self, *args, **kwargs)\u001b[0m\n\u001b[1;32m   1509\u001b[0m             \u001b[0;32mreturn\u001b[0m \u001b[0mself\u001b[0m\u001b[0;34m.\u001b[0m\u001b[0m_compiled_call_impl\u001b[0m\u001b[0;34m(\u001b[0m\u001b[0;34m*\u001b[0m\u001b[0margs\u001b[0m\u001b[0;34m,\u001b[0m \u001b[0;34m**\u001b[0m\u001b[0mkwargs\u001b[0m\u001b[0;34m)\u001b[0m  \u001b[0;31m# type: ignore[misc]\u001b[0m\u001b[0;34m\u001b[0m\u001b[0;34m\u001b[0m\u001b[0m\n\u001b[1;32m   1510\u001b[0m         \u001b[0;32melse\u001b[0m\u001b[0;34m:\u001b[0m\u001b[0;34m\u001b[0m\u001b[0;34m\u001b[0m\u001b[0m\n\u001b[0;32m-> 1511\u001b[0;31m             \u001b[0;32mreturn\u001b[0m \u001b[0mself\u001b[0m\u001b[0;34m.\u001b[0m\u001b[0m_call_impl\u001b[0m\u001b[0;34m(\u001b[0m\u001b[0;34m*\u001b[0m\u001b[0margs\u001b[0m\u001b[0;34m,\u001b[0m \u001b[0;34m**\u001b[0m\u001b[0mkwargs\u001b[0m\u001b[0;34m)\u001b[0m\u001b[0;34m\u001b[0m\u001b[0;34m\u001b[0m\u001b[0m\n\u001b[0m\u001b[1;32m   1512\u001b[0m \u001b[0;34m\u001b[0m\u001b[0m\n\u001b[1;32m   1513\u001b[0m     \u001b[0;32mdef\u001b[0m \u001b[0m_call_impl\u001b[0m\u001b[0;34m(\u001b[0m\u001b[0mself\u001b[0m\u001b[0;34m,\u001b[0m \u001b[0;34m*\u001b[0m\u001b[0margs\u001b[0m\u001b[0;34m,\u001b[0m \u001b[0;34m**\u001b[0m\u001b[0mkwargs\u001b[0m\u001b[0;34m)\u001b[0m\u001b[0;34m:\u001b[0m\u001b[0;34m\u001b[0m\u001b[0;34m\u001b[0m\u001b[0m\n",
            "\u001b[0;32m/usr/local/lib/python3.10/dist-packages/torch/nn/modules/module.py\u001b[0m in \u001b[0;36m_call_impl\u001b[0;34m(self, *args, **kwargs)\u001b[0m\n\u001b[1;32m   1518\u001b[0m                 \u001b[0;32mor\u001b[0m \u001b[0m_global_backward_pre_hooks\u001b[0m \u001b[0;32mor\u001b[0m \u001b[0m_global_backward_hooks\u001b[0m\u001b[0;34m\u001b[0m\u001b[0;34m\u001b[0m\u001b[0m\n\u001b[1;32m   1519\u001b[0m                 or _global_forward_hooks or _global_forward_pre_hooks):\n\u001b[0;32m-> 1520\u001b[0;31m             \u001b[0;32mreturn\u001b[0m \u001b[0mforward_call\u001b[0m\u001b[0;34m(\u001b[0m\u001b[0;34m*\u001b[0m\u001b[0margs\u001b[0m\u001b[0;34m,\u001b[0m \u001b[0;34m**\u001b[0m\u001b[0mkwargs\u001b[0m\u001b[0;34m)\u001b[0m\u001b[0;34m\u001b[0m\u001b[0;34m\u001b[0m\u001b[0m\n\u001b[0m\u001b[1;32m   1521\u001b[0m \u001b[0;34m\u001b[0m\u001b[0m\n\u001b[1;32m   1522\u001b[0m         \u001b[0;32mtry\u001b[0m\u001b[0;34m:\u001b[0m\u001b[0;34m\u001b[0m\u001b[0;34m\u001b[0m\u001b[0m\n",
            "\u001b[0;32m<ipython-input-53-ef9228aae4fb>\u001b[0m in \u001b[0;36mforward\u001b[0;34m(self, x, hidden_states)\u001b[0m\n\u001b[1;32m     25\u001b[0m                 \u001b[0minp\u001b[0m \u001b[0;34m=\u001b[0m \u001b[0mself\u001b[0m\u001b[0;34m.\u001b[0m\u001b[0mdropout_layer\u001b[0m\u001b[0;34m(\u001b[0m\u001b[0minp\u001b[0m\u001b[0;34m)\u001b[0m\u001b[0;34m\u001b[0m\u001b[0;34m\u001b[0m\u001b[0m\n\u001b[1;32m     26\u001b[0m \u001b[0;34m\u001b[0m\u001b[0m\n\u001b[0;32m---> 27\u001b[0;31m             \u001b[0mout\u001b[0m \u001b[0;34m=\u001b[0m \u001b[0mtorch\u001b[0m\u001b[0;34m.\u001b[0m\u001b[0mtanh\u001b[0m\u001b[0;34m(\u001b[0m\u001b[0mself\u001b[0m\u001b[0;34m.\u001b[0m\u001b[0mlayers\u001b[0m\u001b[0;34m[\u001b[0m\u001b[0mi\u001b[0m\u001b[0;34m]\u001b[0m\u001b[0;34m[\u001b[0m\u001b[0;34m'hh'\u001b[0m\u001b[0;34m]\u001b[0m\u001b[0;34m(\u001b[0m\u001b[0mhidden_states\u001b[0m\u001b[0;34m[\u001b[0m\u001b[0mi\u001b[0m\u001b[0;34m]\u001b[0m\u001b[0;34m)\u001b[0m \u001b[0;34m+\u001b[0m \u001b[0mself\u001b[0m\u001b[0;34m.\u001b[0m\u001b[0mlayers\u001b[0m\u001b[0;34m[\u001b[0m\u001b[0mi\u001b[0m\u001b[0;34m]\u001b[0m\u001b[0;34m[\u001b[0m\u001b[0;34m'xh'\u001b[0m\u001b[0;34m]\u001b[0m\u001b[0;34m(\u001b[0m\u001b[0minp\u001b[0m\u001b[0;34m)\u001b[0m\u001b[0;34m)\u001b[0m\u001b[0;34m\u001b[0m\u001b[0;34m\u001b[0m\u001b[0m\n\u001b[0m\u001b[1;32m     28\u001b[0m             \u001b[0moutputs\u001b[0m\u001b[0;34m.\u001b[0m\u001b[0mappend\u001b[0m\u001b[0;34m(\u001b[0m\u001b[0mout\u001b[0m\u001b[0;34m)\u001b[0m\u001b[0;34m\u001b[0m\u001b[0;34m\u001b[0m\u001b[0m\n\u001b[1;32m     29\u001b[0m \u001b[0;34m\u001b[0m\u001b[0m\n",
            "\u001b[0;32m/usr/local/lib/python3.10/dist-packages/torch/nn/modules/module.py\u001b[0m in \u001b[0;36m_wrapped_call_impl\u001b[0;34m(self, *args, **kwargs)\u001b[0m\n\u001b[1;32m   1509\u001b[0m             \u001b[0;32mreturn\u001b[0m \u001b[0mself\u001b[0m\u001b[0;34m.\u001b[0m\u001b[0m_compiled_call_impl\u001b[0m\u001b[0;34m(\u001b[0m\u001b[0;34m*\u001b[0m\u001b[0margs\u001b[0m\u001b[0;34m,\u001b[0m \u001b[0;34m**\u001b[0m\u001b[0mkwargs\u001b[0m\u001b[0;34m)\u001b[0m  \u001b[0;31m# type: ignore[misc]\u001b[0m\u001b[0;34m\u001b[0m\u001b[0;34m\u001b[0m\u001b[0m\n\u001b[1;32m   1510\u001b[0m         \u001b[0;32melse\u001b[0m\u001b[0;34m:\u001b[0m\u001b[0;34m\u001b[0m\u001b[0;34m\u001b[0m\u001b[0m\n\u001b[0;32m-> 1511\u001b[0;31m             \u001b[0;32mreturn\u001b[0m \u001b[0mself\u001b[0m\u001b[0;34m.\u001b[0m\u001b[0m_call_impl\u001b[0m\u001b[0;34m(\u001b[0m\u001b[0;34m*\u001b[0m\u001b[0margs\u001b[0m\u001b[0;34m,\u001b[0m \u001b[0;34m**\u001b[0m\u001b[0mkwargs\u001b[0m\u001b[0;34m)\u001b[0m\u001b[0;34m\u001b[0m\u001b[0;34m\u001b[0m\u001b[0m\n\u001b[0m\u001b[1;32m   1512\u001b[0m \u001b[0;34m\u001b[0m\u001b[0m\n\u001b[1;32m   1513\u001b[0m     \u001b[0;32mdef\u001b[0m \u001b[0m_call_impl\u001b[0m\u001b[0;34m(\u001b[0m\u001b[0mself\u001b[0m\u001b[0;34m,\u001b[0m \u001b[0;34m*\u001b[0m\u001b[0margs\u001b[0m\u001b[0;34m,\u001b[0m \u001b[0;34m**\u001b[0m\u001b[0mkwargs\u001b[0m\u001b[0;34m)\u001b[0m\u001b[0;34m:\u001b[0m\u001b[0;34m\u001b[0m\u001b[0;34m\u001b[0m\u001b[0m\n",
            "\u001b[0;32m/usr/local/lib/python3.10/dist-packages/torch/nn/modules/module.py\u001b[0m in \u001b[0;36m_call_impl\u001b[0;34m(self, *args, **kwargs)\u001b[0m\n\u001b[1;32m   1518\u001b[0m                 \u001b[0;32mor\u001b[0m \u001b[0m_global_backward_pre_hooks\u001b[0m \u001b[0;32mor\u001b[0m \u001b[0m_global_backward_hooks\u001b[0m\u001b[0;34m\u001b[0m\u001b[0;34m\u001b[0m\u001b[0m\n\u001b[1;32m   1519\u001b[0m                 or _global_forward_hooks or _global_forward_pre_hooks):\n\u001b[0;32m-> 1520\u001b[0;31m             \u001b[0;32mreturn\u001b[0m \u001b[0mforward_call\u001b[0m\u001b[0;34m(\u001b[0m\u001b[0;34m*\u001b[0m\u001b[0margs\u001b[0m\u001b[0;34m,\u001b[0m \u001b[0;34m**\u001b[0m\u001b[0mkwargs\u001b[0m\u001b[0;34m)\u001b[0m\u001b[0;34m\u001b[0m\u001b[0;34m\u001b[0m\u001b[0m\n\u001b[0m\u001b[1;32m   1521\u001b[0m \u001b[0;34m\u001b[0m\u001b[0m\n\u001b[1;32m   1522\u001b[0m         \u001b[0;32mtry\u001b[0m\u001b[0;34m:\u001b[0m\u001b[0;34m\u001b[0m\u001b[0;34m\u001b[0m\u001b[0m\n",
            "\u001b[0;32m/usr/local/lib/python3.10/dist-packages/torch/nn/modules/linear.py\u001b[0m in \u001b[0;36mforward\u001b[0;34m(self, input)\u001b[0m\n\u001b[1;32m    114\u001b[0m \u001b[0;34m\u001b[0m\u001b[0m\n\u001b[1;32m    115\u001b[0m     \u001b[0;32mdef\u001b[0m \u001b[0mforward\u001b[0m\u001b[0;34m(\u001b[0m\u001b[0mself\u001b[0m\u001b[0;34m,\u001b[0m \u001b[0minput\u001b[0m\u001b[0;34m:\u001b[0m \u001b[0mTensor\u001b[0m\u001b[0;34m)\u001b[0m \u001b[0;34m->\u001b[0m \u001b[0mTensor\u001b[0m\u001b[0;34m:\u001b[0m\u001b[0;34m\u001b[0m\u001b[0;34m\u001b[0m\u001b[0m\n\u001b[0;32m--> 116\u001b[0;31m         \u001b[0;32mreturn\u001b[0m \u001b[0mF\u001b[0m\u001b[0;34m.\u001b[0m\u001b[0mlinear\u001b[0m\u001b[0;34m(\u001b[0m\u001b[0minput\u001b[0m\u001b[0;34m,\u001b[0m \u001b[0mself\u001b[0m\u001b[0;34m.\u001b[0m\u001b[0mweight\u001b[0m\u001b[0;34m,\u001b[0m \u001b[0mself\u001b[0m\u001b[0;34m.\u001b[0m\u001b[0mbias\u001b[0m\u001b[0;34m)\u001b[0m\u001b[0;34m\u001b[0m\u001b[0;34m\u001b[0m\u001b[0m\n\u001b[0m\u001b[1;32m    117\u001b[0m \u001b[0;34m\u001b[0m\u001b[0m\n\u001b[1;32m    118\u001b[0m     \u001b[0;32mdef\u001b[0m \u001b[0mextra_repr\u001b[0m\u001b[0;34m(\u001b[0m\u001b[0mself\u001b[0m\u001b[0;34m)\u001b[0m \u001b[0;34m->\u001b[0m \u001b[0mstr\u001b[0m\u001b[0;34m:\u001b[0m\u001b[0;34m\u001b[0m\u001b[0;34m\u001b[0m\u001b[0m\n",
            "\u001b[0;32m/usr/local/lib/python3.10/dist-packages/torch/nn/modules/module.py\u001b[0m in \u001b[0;36m__getattr__\u001b[0;34m(self, name)\u001b[0m\n\u001b[1;32m   1673\u001b[0m     \u001b[0;31m# See full discussion on the problems with returning `Union` here\u001b[0m\u001b[0;34m\u001b[0m\u001b[0;34m\u001b[0m\u001b[0m\n\u001b[1;32m   1674\u001b[0m     \u001b[0;31m# https://github.com/microsoft/pyright/issues/4213\u001b[0m\u001b[0;34m\u001b[0m\u001b[0;34m\u001b[0m\u001b[0m\n\u001b[0;32m-> 1675\u001b[0;31m     \u001b[0;32mdef\u001b[0m \u001b[0m__getattr__\u001b[0m\u001b[0;34m(\u001b[0m\u001b[0mself\u001b[0m\u001b[0;34m,\u001b[0m \u001b[0mname\u001b[0m\u001b[0;34m:\u001b[0m \u001b[0mstr\u001b[0m\u001b[0;34m)\u001b[0m \u001b[0;34m->\u001b[0m \u001b[0mAny\u001b[0m\u001b[0;34m:\u001b[0m\u001b[0;34m\u001b[0m\u001b[0;34m\u001b[0m\u001b[0m\n\u001b[0m\u001b[1;32m   1676\u001b[0m         \u001b[0;32mif\u001b[0m \u001b[0;34m'_parameters'\u001b[0m \u001b[0;32min\u001b[0m \u001b[0mself\u001b[0m\u001b[0;34m.\u001b[0m\u001b[0m__dict__\u001b[0m\u001b[0;34m:\u001b[0m\u001b[0;34m\u001b[0m\u001b[0;34m\u001b[0m\u001b[0m\n\u001b[1;32m   1677\u001b[0m             \u001b[0m_parameters\u001b[0m \u001b[0;34m=\u001b[0m \u001b[0mself\u001b[0m\u001b[0;34m.\u001b[0m\u001b[0m__dict__\u001b[0m\u001b[0;34m[\u001b[0m\u001b[0;34m'_parameters'\u001b[0m\u001b[0;34m]\u001b[0m\u001b[0;34m\u001b[0m\u001b[0;34m\u001b[0m\u001b[0m\n",
            "\u001b[0;31mKeyboardInterrupt\u001b[0m: "
          ]
        }
      ]
    },
    {
      "cell_type": "code",
      "source": [
        "seq"
      ],
      "metadata": {
        "id": "iX_pMhwYHIae",
        "colab": {
          "base_uri": "https://localhost:8080/",
          "height": 120
        },
        "outputId": "75a67f0c-06ce-4a27-a636-ecadad28232e"
      },
      "id": "iX_pMhwYHIae",
      "execution_count": null,
      "outputs": [
        {
          "output_type": "execute_result",
          "data": {
            "text/plain": [
              "\"Company s oha lot tha ticarxuntit.WAnd aisestonela demVcis lak it be ineppeangtist, sucd on butt rave as. Wor ssunter, sukenJ of;; nen hetore. Bhat id you'll tho gead fu hut'ro.II dyaus ane ponse doe wsor thes ceneect pa in is whacrdecruab? Bal the seg tep, alpiigs. Iupsnsorsthnuwall do worrgioniths toony valy on weth?red fdedial st whus mteluy, anit, Yo —ancenta sf.od fly aecanithea forrnf jive whe phen siower. (ounerst Soma to soord ut? [ove of gatere asprise,d to bleaith y poupsinat, indn't hewe wand chal ton caude t, Tha lund  o&venvor. Fha beap iis, an the ahal colad in t of umede speouls yoh herkore dicindey goud in warbesentermiled. Bpingab yog ta. [eg you tha kind in't meistn too udenw rak sersure mene we pery walt do the plockmont peexund a dtelruttr g en expertenteore suther uedeios of s. Ber paod yo ontingel me orat angallig s mostopex at oo b ch oncarfupdo a jon dovedthine, Im whave prrrke Hly, the fren\""
            ],
            "application/vnd.google.colaboratory.intrinsic+json": {
              "type": "string"
            }
          },
          "metadata": {},
          "execution_count": 90
        }
      ]
    },
    {
      "cell_type": "code",
      "source": [
        "import pickle\n",
        "with open('model.pkl', 'wb') as f:\n",
        "    pickle.dump(model, f)"
      ],
      "metadata": {
        "id": "pV3wzCV_TmkF"
      },
      "id": "pV3wzCV_TmkF",
      "execution_count": null,
      "outputs": []
    },
    {
      "cell_type": "code",
      "source": [
        "class LSTMNet(nn.Module):\n",
        "\n",
        "    def __init__(self, vocab_size, hidden_size, n_layers, dropout):\n",
        "        super(LSTMNet, self).__init__()\n",
        "        self.vocab_size = vocab_size\n",
        "        self.hidden_size = hidden_size\n",
        "        self.n_layers = n_layers\n",
        "        self.dropout = dropout\n",
        "\n",
        "        self.layers = nn.ModuleList()\n",
        "\n",
        "        for i in range(self.n_layers):\n",
        "            l = {}\n",
        "            l['Whf'] = nn.Linear(self.hidden_size, self.hidden_size)\n",
        "            l['Whi'] = nn.Linear(self.hidden_size, self.hidden_size)\n",
        "            l['WhO'] = nn.Linear(self.hidden_size, self.hidden_size)\n",
        "            l['Whg'] = nn.Linear(self.hidden_size, self.hidden_size)\n",
        "            l['Wxf'] = nn.Linear(self.vocab_size if i == 0 else self.hidden_size, self.hidden_size)\n",
        "            l['Wxi'] = nn.Linear(self.vocab_size if i == 0 else self.hidden_size, self.hidden_size)\n",
        "            l['WxO'] = nn.Linear(self.vocab_size if i == 0 else self.hidden_size, self.hidden_size)\n",
        "            l['Wxg'] = nn.Linear(self.vocab_size if i == 0 else self.hidden_size, self.hidden_size)\n",
        "            self.layers.append(nn.ModuleDict(l))\n",
        "\n",
        "        self.sigmoid = nn.Sigmoid()\n",
        "        self.decoder = nn.Linear(self.hidden_size, self.vocab_size)\n",
        "        self.dropout_layer = nn.Dropout(self.dropout) if self.dropout > 0 else None\n",
        "\n",
        "    def forward(self, x, hidden_states, cell_states):\n",
        "        cstates = []\n",
        "        outputs = []\n",
        "\n",
        "        for i in range(self.n_layers):\n",
        "            inp = x if i == 0 else outputs[-1]\n",
        "\n",
        "            f = self.sigmoid(self.layers[i]['Whf'](hidden_states[i]) + self.layers[i]['Wxf'](inp))\n",
        "            ix = self.sigmoid(self.layers[i]['Whi'](hidden_states[i]) + self.layers[i]['Wxi'](inp))\n",
        "            o = self.sigmoid(self.layers[i]['WhO'](hidden_states[i]) + self.layers[i]['WxO'](inp))\n",
        "            g = torch.tanh(self.layers[i]['Whg'](hidden_states[i]) + self.layers[i]['Wxg'](inp))\n",
        "\n",
        "            cstate = f * cell_states[i] + ix * g\n",
        "\n",
        "            cstates.append(cstate)\n",
        "\n",
        "            out = o * torch.tanh(cstate)\n",
        "\n",
        "            outputs.append(out)\n",
        "\n",
        "        top_h = outputs[-1]\n",
        "        if self.dropout_layer:\n",
        "            top_h = self.dropout_layer(top_h)\n",
        "\n",
        "        logits = self.decoder(top_h)\n",
        "        s_logits = logits/0.8\n",
        "        logs = nn.LogSoftmax(dim=-1)\n",
        "        out = logs(s_logits)\n",
        "        return out, outputs, cstates"
      ],
      "metadata": {
        "id": "0wKjFJp54NBs"
      },
      "id": "0wKjFJp54NBs",
      "execution_count": null,
      "outputs": []
    },
    {
      "cell_type": "code",
      "source": [
        "lstmodel = LSTMNet(len(stoi), 128, 2, 0.3)"
      ],
      "metadata": {
        "id": "lTqiSfK1yXhH"
      },
      "id": "lTqiSfK1yXhH",
      "execution_count": null,
      "outputs": []
    },
    {
      "cell_type": "code",
      "source": [
        "sum = 0\n",
        "for p in lstmodel.parameters():\n",
        "    if(len(p.shape)>1):sum += p.shape[0]*p.shape[1]\n",
        "    else:sum += p.shape[0]\n",
        "print(sum)"
      ],
      "metadata": {
        "colab": {
          "base_uri": "https://localhost:8080/"
        },
        "id": "yKCPbn7Z_gVO",
        "outputId": "2b5f6d1d-27b2-45fd-8367-1feea7c2a1b2"
      },
      "id": "yKCPbn7Z_gVO",
      "execution_count": null,
      "outputs": [
        {
          "output_type": "stream",
          "name": "stdout",
          "text": [
            "255064\n"
          ]
        }
      ]
    },
    {
      "cell_type": "code",
      "source": [
        "def initialize_hidden_states(batch_size, hidden_size, num_layers):\n",
        "    return [torch.zeros(batch_size, hidden_size) for _ in range(num_layers)]\n",
        "hidden_states = initialize_hidden_states(1, lstmodel.hidden_size, lstmodel.n_layers)"
      ],
      "metadata": {
        "id": "XEtY_BNmgxgr"
      },
      "id": "XEtY_BNmgxgr",
      "execution_count": null,
      "outputs": []
    },
    {
      "cell_type": "code",
      "source": [
        "for i in range(lstmodel.n_layers-1):\n",
        "    inp = torch.randn(1,88)\n",
        "    f = lstmodel.sigmoid(lstmodel.layers[i]['Whf'](hidden_states[i]) + lstmodel.layers[i]['Wxf'](inp))\n",
        "    i = lstmodel.sigmoid(lstmodel.layers[i]['Whi'](hidden_states[i]) + lstmodel.layers[i]['Wxi'](inp))\n",
        "    print(lstmodel.layers[i])#['Who'].shape)\n",
        "    # o = lstmodel.sigmoid(lstmodel.layers[i]['Who'](hidden_states[i]) + lstmodel.layers[i]['Wxo'](inp))\n",
        "    g = torch.tanh(lstmodel.layers[i]['Whg'](hidden_states[i]) + lstmodel.layers[i]['Wxg'](inp))\n"
      ],
      "metadata": {
        "colab": {
          "base_uri": "https://localhost:8080/",
          "height": 350
        },
        "id": "q8nsMvD2id16",
        "outputId": "4f456695-1bb2-4599-8c8d-c2673eb4ff5a"
      },
      "id": "q8nsMvD2id16",
      "execution_count": null,
      "outputs": [
        {
          "output_type": "error",
          "ename": "TypeError",
          "evalue": "only integer tensors of a single element can be converted to an index",
          "traceback": [
            "\u001b[0;31m---------------------------------------------------------------------------\u001b[0m",
            "\u001b[0;31mTypeError\u001b[0m                                 Traceback (most recent call last)",
            "\u001b[0;32m<ipython-input-142-5f1ff7fd95a2>\u001b[0m in \u001b[0;36m<cell line: 1>\u001b[0;34m()\u001b[0m\n\u001b[1;32m      3\u001b[0m     \u001b[0mf\u001b[0m \u001b[0;34m=\u001b[0m \u001b[0mlstmodel\u001b[0m\u001b[0;34m.\u001b[0m\u001b[0msigmoid\u001b[0m\u001b[0;34m(\u001b[0m\u001b[0mlstmodel\u001b[0m\u001b[0;34m.\u001b[0m\u001b[0mlayers\u001b[0m\u001b[0;34m[\u001b[0m\u001b[0mi\u001b[0m\u001b[0;34m]\u001b[0m\u001b[0;34m[\u001b[0m\u001b[0;34m'Whf'\u001b[0m\u001b[0;34m]\u001b[0m\u001b[0;34m(\u001b[0m\u001b[0mhidden_states\u001b[0m\u001b[0;34m[\u001b[0m\u001b[0mi\u001b[0m\u001b[0;34m]\u001b[0m\u001b[0;34m)\u001b[0m \u001b[0;34m+\u001b[0m \u001b[0mlstmodel\u001b[0m\u001b[0;34m.\u001b[0m\u001b[0mlayers\u001b[0m\u001b[0;34m[\u001b[0m\u001b[0mi\u001b[0m\u001b[0;34m]\u001b[0m\u001b[0;34m[\u001b[0m\u001b[0;34m'Wxf'\u001b[0m\u001b[0;34m]\u001b[0m\u001b[0;34m(\u001b[0m\u001b[0minp\u001b[0m\u001b[0;34m)\u001b[0m\u001b[0;34m)\u001b[0m\u001b[0;34m\u001b[0m\u001b[0;34m\u001b[0m\u001b[0m\n\u001b[1;32m      4\u001b[0m     \u001b[0mi\u001b[0m \u001b[0;34m=\u001b[0m \u001b[0mlstmodel\u001b[0m\u001b[0;34m.\u001b[0m\u001b[0msigmoid\u001b[0m\u001b[0;34m(\u001b[0m\u001b[0mlstmodel\u001b[0m\u001b[0;34m.\u001b[0m\u001b[0mlayers\u001b[0m\u001b[0;34m[\u001b[0m\u001b[0mi\u001b[0m\u001b[0;34m]\u001b[0m\u001b[0;34m[\u001b[0m\u001b[0;34m'Whi'\u001b[0m\u001b[0;34m]\u001b[0m\u001b[0;34m(\u001b[0m\u001b[0mhidden_states\u001b[0m\u001b[0;34m[\u001b[0m\u001b[0mi\u001b[0m\u001b[0;34m]\u001b[0m\u001b[0;34m)\u001b[0m \u001b[0;34m+\u001b[0m \u001b[0mlstmodel\u001b[0m\u001b[0;34m.\u001b[0m\u001b[0mlayers\u001b[0m\u001b[0;34m[\u001b[0m\u001b[0mi\u001b[0m\u001b[0;34m]\u001b[0m\u001b[0;34m[\u001b[0m\u001b[0;34m'Wxi'\u001b[0m\u001b[0;34m]\u001b[0m\u001b[0;34m(\u001b[0m\u001b[0minp\u001b[0m\u001b[0;34m)\u001b[0m\u001b[0;34m)\u001b[0m\u001b[0;34m\u001b[0m\u001b[0;34m\u001b[0m\u001b[0m\n\u001b[0;32m----> 5\u001b[0;31m     \u001b[0mprint\u001b[0m\u001b[0;34m(\u001b[0m\u001b[0mlstmodel\u001b[0m\u001b[0;34m.\u001b[0m\u001b[0mlayers\u001b[0m\u001b[0;34m[\u001b[0m\u001b[0mi\u001b[0m\u001b[0;34m]\u001b[0m\u001b[0;34m)\u001b[0m\u001b[0;31m#['Who'].shape)\u001b[0m\u001b[0;34m\u001b[0m\u001b[0;34m\u001b[0m\u001b[0m\n\u001b[0m\u001b[1;32m      6\u001b[0m     \u001b[0;31m# o = lstmodel.sigmoid(lstmodel.layers[i]['Who'](hidden_states[i]) + lstmodel.layers[i]['Wxo'](inp))\u001b[0m\u001b[0;34m\u001b[0m\u001b[0;34m\u001b[0m\u001b[0m\n\u001b[1;32m      7\u001b[0m     \u001b[0mg\u001b[0m \u001b[0;34m=\u001b[0m \u001b[0mtorch\u001b[0m\u001b[0;34m.\u001b[0m\u001b[0mtanh\u001b[0m\u001b[0;34m(\u001b[0m\u001b[0mlstmodel\u001b[0m\u001b[0;34m.\u001b[0m\u001b[0mlayers\u001b[0m\u001b[0;34m[\u001b[0m\u001b[0mi\u001b[0m\u001b[0;34m]\u001b[0m\u001b[0;34m[\u001b[0m\u001b[0;34m'Whg'\u001b[0m\u001b[0;34m]\u001b[0m\u001b[0;34m(\u001b[0m\u001b[0mhidden_states\u001b[0m\u001b[0;34m[\u001b[0m\u001b[0mi\u001b[0m\u001b[0;34m]\u001b[0m\u001b[0;34m)\u001b[0m \u001b[0;34m+\u001b[0m \u001b[0mlstmodel\u001b[0m\u001b[0;34m.\u001b[0m\u001b[0mlayers\u001b[0m\u001b[0;34m[\u001b[0m\u001b[0mi\u001b[0m\u001b[0;34m]\u001b[0m\u001b[0;34m[\u001b[0m\u001b[0;34m'Wxg'\u001b[0m\u001b[0;34m]\u001b[0m\u001b[0;34m(\u001b[0m\u001b[0minp\u001b[0m\u001b[0;34m)\u001b[0m\u001b[0;34m)\u001b[0m\u001b[0;34m\u001b[0m\u001b[0;34m\u001b[0m\u001b[0m\n",
            "\u001b[0;32m/usr/local/lib/python3.10/dist-packages/torch/nn/modules/container.py\u001b[0m in \u001b[0;36m__getitem__\u001b[0;34m(self, idx)\u001b[0m\n\u001b[1;32m    293\u001b[0m             \u001b[0;32mreturn\u001b[0m \u001b[0mself\u001b[0m\u001b[0;34m.\u001b[0m\u001b[0m__class__\u001b[0m\u001b[0;34m(\u001b[0m\u001b[0mlist\u001b[0m\u001b[0;34m(\u001b[0m\u001b[0mself\u001b[0m\u001b[0;34m.\u001b[0m\u001b[0m_modules\u001b[0m\u001b[0;34m.\u001b[0m\u001b[0mvalues\u001b[0m\u001b[0;34m(\u001b[0m\u001b[0;34m)\u001b[0m\u001b[0;34m)\u001b[0m\u001b[0;34m[\u001b[0m\u001b[0midx\u001b[0m\u001b[0;34m]\u001b[0m\u001b[0;34m)\u001b[0m\u001b[0;34m\u001b[0m\u001b[0;34m\u001b[0m\u001b[0m\n\u001b[1;32m    294\u001b[0m         \u001b[0;32melse\u001b[0m\u001b[0;34m:\u001b[0m\u001b[0;34m\u001b[0m\u001b[0;34m\u001b[0m\u001b[0m\n\u001b[0;32m--> 295\u001b[0;31m             \u001b[0;32mreturn\u001b[0m \u001b[0mself\u001b[0m\u001b[0;34m.\u001b[0m\u001b[0m_modules\u001b[0m\u001b[0;34m[\u001b[0m\u001b[0mself\u001b[0m\u001b[0;34m.\u001b[0m\u001b[0m_get_abs_string_index\u001b[0m\u001b[0;34m(\u001b[0m\u001b[0midx\u001b[0m\u001b[0;34m)\u001b[0m\u001b[0;34m]\u001b[0m\u001b[0;34m\u001b[0m\u001b[0;34m\u001b[0m\u001b[0m\n\u001b[0m\u001b[1;32m    296\u001b[0m \u001b[0;34m\u001b[0m\u001b[0m\n\u001b[1;32m    297\u001b[0m     \u001b[0;32mdef\u001b[0m \u001b[0m__setitem__\u001b[0m\u001b[0;34m(\u001b[0m\u001b[0mself\u001b[0m\u001b[0;34m,\u001b[0m \u001b[0midx\u001b[0m\u001b[0;34m:\u001b[0m \u001b[0mint\u001b[0m\u001b[0;34m,\u001b[0m \u001b[0mmodule\u001b[0m\u001b[0;34m:\u001b[0m \u001b[0mModule\u001b[0m\u001b[0;34m)\u001b[0m \u001b[0;34m->\u001b[0m \u001b[0;32mNone\u001b[0m\u001b[0;34m:\u001b[0m\u001b[0;34m\u001b[0m\u001b[0;34m\u001b[0m\u001b[0m\n",
            "\u001b[0;32m/usr/local/lib/python3.10/dist-packages/torch/nn/modules/container.py\u001b[0m in \u001b[0;36m_get_abs_string_index\u001b[0;34m(self, idx)\u001b[0m\n\u001b[1;32m    281\u001b[0m     \u001b[0;32mdef\u001b[0m \u001b[0m_get_abs_string_index\u001b[0m\u001b[0;34m(\u001b[0m\u001b[0mself\u001b[0m\u001b[0;34m,\u001b[0m \u001b[0midx\u001b[0m\u001b[0;34m)\u001b[0m\u001b[0;34m:\u001b[0m\u001b[0;34m\u001b[0m\u001b[0;34m\u001b[0m\u001b[0m\n\u001b[1;32m    282\u001b[0m         \u001b[0;34m\"\"\"Get the absolute index for the list of modules.\"\"\"\u001b[0m\u001b[0;34m\u001b[0m\u001b[0;34m\u001b[0m\u001b[0m\n\u001b[0;32m--> 283\u001b[0;31m         \u001b[0midx\u001b[0m \u001b[0;34m=\u001b[0m \u001b[0moperator\u001b[0m\u001b[0;34m.\u001b[0m\u001b[0mindex\u001b[0m\u001b[0;34m(\u001b[0m\u001b[0midx\u001b[0m\u001b[0;34m)\u001b[0m\u001b[0;34m\u001b[0m\u001b[0;34m\u001b[0m\u001b[0m\n\u001b[0m\u001b[1;32m    284\u001b[0m         \u001b[0;32mif\u001b[0m \u001b[0;32mnot\u001b[0m \u001b[0;34m(\u001b[0m\u001b[0;34m-\u001b[0m\u001b[0mlen\u001b[0m\u001b[0;34m(\u001b[0m\u001b[0mself\u001b[0m\u001b[0;34m)\u001b[0m \u001b[0;34m<=\u001b[0m \u001b[0midx\u001b[0m \u001b[0;34m<\u001b[0m \u001b[0mlen\u001b[0m\u001b[0;34m(\u001b[0m\u001b[0mself\u001b[0m\u001b[0;34m)\u001b[0m\u001b[0;34m)\u001b[0m\u001b[0;34m:\u001b[0m\u001b[0;34m\u001b[0m\u001b[0;34m\u001b[0m\u001b[0m\n\u001b[1;32m    285\u001b[0m             \u001b[0;32mraise\u001b[0m \u001b[0mIndexError\u001b[0m\u001b[0;34m(\u001b[0m\u001b[0;34mf'index {idx} is out of range'\u001b[0m\u001b[0;34m)\u001b[0m\u001b[0;34m\u001b[0m\u001b[0;34m\u001b[0m\u001b[0m\n",
            "\u001b[0;31mTypeError\u001b[0m: only integer tensors of a single element can be converted to an index"
          ]
        }
      ]
    },
    {
      "cell_type": "code",
      "source": [
        "def train(model, text, stoi, itos, bs, epochs, lr, loss_cache, epochs_cache):\n",
        "\n",
        "    text_indices = [stoi[char] for char in text]\n",
        "\n",
        "    for epoch in range(epochs):\n",
        "        ix = int(torch.randint(0, len(text), (1,)))\n",
        "\n",
        "        if ix + bs < len(text_indices) - 1:\n",
        "            hidden_states = initialize_hidden_states(1, lstmodel.hidden_size, lstmodel.n_layers)\n",
        "            cstates = initialize_hidden_states(1, lstmodel.hidden_size, lstmodel.n_layers)\n",
        "            x = torch.tensor(text_indices[ix:ix+bs])-1\n",
        "            y_true = torch.tensor(text_indices[ix+1:ix+bs+1])-1\n",
        "            logits = []\n",
        "            for i in range(bs):\n",
        "              oneh = F.one_hot(x[i], num_classes=len(stoi)).float()\n",
        "              logit, hidden_states, cstates = model(oneh, hidden_states, cstates)\n",
        "              logits.append(logit)\n",
        "            logits = torch.cat(logits, dim = 0)\n",
        "            loss = F.cross_entropy(logits, y_true)\n",
        "\n",
        "            with torch.no_grad():\n",
        "              for p in model.parameters():\n",
        "                  p.grad = None\n",
        "            loss_cache.append(loss.item())\n",
        "            epochs_cache.append(epoch)\n",
        "            loss.backward()\n",
        "\n",
        "            with torch.no_grad():\n",
        "              for p in model.parameters():\n",
        "                if p.grad is not None:\n",
        "                  p.data += -lr*p.grad\n",
        "\n",
        "\n",
        "            if (epoch) % 1000 == 0:\n",
        "                print(f\"Epoch [{epoch+1}/{epochs}], Step [{ix//bs}], Loss: {loss.item()}\")"
      ],
      "metadata": {
        "id": "AZmdzd5T_kif"
      },
      "id": "AZmdzd5T_kif",
      "execution_count": null,
      "outputs": []
    },
    {
      "cell_type": "code",
      "source": [
        "train(lstmodel, text, stoi, itos, 50, 10000, 0.01, loss_cache, epochs_cache)"
      ],
      "metadata": {
        "id": "MuIFFB35L9KX",
        "colab": {
          "base_uri": "https://localhost:8080/",
          "height": 418
        },
        "outputId": "e970803b-95bf-4034-b3d6-a9bc1dbf6a47"
      },
      "id": "MuIFFB35L9KX",
      "execution_count": null,
      "outputs": [
        {
          "output_type": "stream",
          "name": "stdout",
          "text": [
            "Epoch [1/10000], Step [12072], Loss: 4.480090141296387\n",
            "Epoch [1001/10000], Step [7363], Loss: 3.2227859497070312\n",
            "Epoch [2001/10000], Step [5662], Loss: 3.087271213531494\n",
            "Epoch [3001/10000], Step [6310], Loss: 2.870457172393799\n",
            "Epoch [4001/10000], Step [1885], Loss: 3.3015127182006836\n",
            "Epoch [5001/10000], Step [2693], Loss: 2.890566349029541\n",
            "Epoch [6001/10000], Step [6639], Loss: 3.028610944747925\n",
            "Epoch [7001/10000], Step [11595], Loss: 3.0691945552825928\n"
          ]
        },
        {
          "output_type": "error",
          "ename": "KeyboardInterrupt",
          "evalue": "",
          "traceback": [
            "\u001b[0;31m---------------------------------------------------------------------------\u001b[0m",
            "\u001b[0;31mKeyboardInterrupt\u001b[0m                         Traceback (most recent call last)",
            "\u001b[0;32m<ipython-input-147-a3af81417a9c>\u001b[0m in \u001b[0;36m<cell line: 1>\u001b[0;34m()\u001b[0m\n\u001b[0;32m----> 1\u001b[0;31m \u001b[0mtrain\u001b[0m\u001b[0;34m(\u001b[0m\u001b[0mlstmodel\u001b[0m\u001b[0;34m,\u001b[0m \u001b[0mtext\u001b[0m\u001b[0;34m,\u001b[0m \u001b[0mstoi\u001b[0m\u001b[0;34m,\u001b[0m \u001b[0mitos\u001b[0m\u001b[0;34m,\u001b[0m \u001b[0;36m50\u001b[0m\u001b[0;34m,\u001b[0m \u001b[0;36m10000\u001b[0m\u001b[0;34m,\u001b[0m \u001b[0;36m0.01\u001b[0m\u001b[0;34m,\u001b[0m \u001b[0mloss_cache\u001b[0m\u001b[0;34m,\u001b[0m \u001b[0mepochs_cache\u001b[0m\u001b[0;34m)\u001b[0m\u001b[0;34m\u001b[0m\u001b[0;34m\u001b[0m\u001b[0m\n\u001b[0m",
            "\u001b[0;32m<ipython-input-146-95d4877c50f3>\u001b[0m in \u001b[0;36mtrain\u001b[0;34m(model, text, stoi, itos, bs, epochs, lr, loss_cache, epochs_cache)\u001b[0m\n\u001b[1;32m     24\u001b[0m             \u001b[0mloss_cache\u001b[0m\u001b[0;34m.\u001b[0m\u001b[0mappend\u001b[0m\u001b[0;34m(\u001b[0m\u001b[0mloss\u001b[0m\u001b[0;34m.\u001b[0m\u001b[0mitem\u001b[0m\u001b[0;34m(\u001b[0m\u001b[0;34m)\u001b[0m\u001b[0;34m)\u001b[0m\u001b[0;34m\u001b[0m\u001b[0;34m\u001b[0m\u001b[0m\n\u001b[1;32m     25\u001b[0m             \u001b[0mepochs_cache\u001b[0m\u001b[0;34m.\u001b[0m\u001b[0mappend\u001b[0m\u001b[0;34m(\u001b[0m\u001b[0mepoch\u001b[0m\u001b[0;34m)\u001b[0m\u001b[0;34m\u001b[0m\u001b[0;34m\u001b[0m\u001b[0m\n\u001b[0;32m---> 26\u001b[0;31m             \u001b[0mloss\u001b[0m\u001b[0;34m.\u001b[0m\u001b[0mbackward\u001b[0m\u001b[0;34m(\u001b[0m\u001b[0;34m)\u001b[0m\u001b[0;34m\u001b[0m\u001b[0;34m\u001b[0m\u001b[0m\n\u001b[0m\u001b[1;32m     27\u001b[0m \u001b[0;34m\u001b[0m\u001b[0m\n\u001b[1;32m     28\u001b[0m             \u001b[0;32mwith\u001b[0m \u001b[0mtorch\u001b[0m\u001b[0;34m.\u001b[0m\u001b[0mno_grad\u001b[0m\u001b[0;34m(\u001b[0m\u001b[0;34m)\u001b[0m\u001b[0;34m:\u001b[0m\u001b[0;34m\u001b[0m\u001b[0;34m\u001b[0m\u001b[0m\n",
            "\u001b[0;32m/usr/local/lib/python3.10/dist-packages/torch/_tensor.py\u001b[0m in \u001b[0;36mbackward\u001b[0;34m(self, gradient, retain_graph, create_graph, inputs)\u001b[0m\n\u001b[1;32m    520\u001b[0m                 \u001b[0minputs\u001b[0m\u001b[0;34m=\u001b[0m\u001b[0minputs\u001b[0m\u001b[0;34m,\u001b[0m\u001b[0;34m\u001b[0m\u001b[0;34m\u001b[0m\u001b[0m\n\u001b[1;32m    521\u001b[0m             )\n\u001b[0;32m--> 522\u001b[0;31m         torch.autograd.backward(\n\u001b[0m\u001b[1;32m    523\u001b[0m             \u001b[0mself\u001b[0m\u001b[0;34m,\u001b[0m \u001b[0mgradient\u001b[0m\u001b[0;34m,\u001b[0m \u001b[0mretain_graph\u001b[0m\u001b[0;34m,\u001b[0m \u001b[0mcreate_graph\u001b[0m\u001b[0;34m,\u001b[0m \u001b[0minputs\u001b[0m\u001b[0;34m=\u001b[0m\u001b[0minputs\u001b[0m\u001b[0;34m\u001b[0m\u001b[0;34m\u001b[0m\u001b[0m\n\u001b[1;32m    524\u001b[0m         )\n",
            "\u001b[0;32m/usr/local/lib/python3.10/dist-packages/torch/autograd/__init__.py\u001b[0m in \u001b[0;36mbackward\u001b[0;34m(tensors, grad_tensors, retain_graph, create_graph, grad_variables, inputs)\u001b[0m\n\u001b[1;32m    264\u001b[0m     \u001b[0;31m# some Python versions print out the first line of a multi-line function\u001b[0m\u001b[0;34m\u001b[0m\u001b[0;34m\u001b[0m\u001b[0m\n\u001b[1;32m    265\u001b[0m     \u001b[0;31m# calls in the traceback and some print out the last line\u001b[0m\u001b[0;34m\u001b[0m\u001b[0;34m\u001b[0m\u001b[0m\n\u001b[0;32m--> 266\u001b[0;31m     Variable._execution_engine.run_backward(  # Calls into the C++ engine to run the backward pass\n\u001b[0m\u001b[1;32m    267\u001b[0m         \u001b[0mtensors\u001b[0m\u001b[0;34m,\u001b[0m\u001b[0;34m\u001b[0m\u001b[0;34m\u001b[0m\u001b[0m\n\u001b[1;32m    268\u001b[0m         \u001b[0mgrad_tensors_\u001b[0m\u001b[0;34m,\u001b[0m\u001b[0;34m\u001b[0m\u001b[0;34m\u001b[0m\u001b[0m\n",
            "\u001b[0;31mKeyboardInterrupt\u001b[0m: "
          ]
        }
      ]
    },
    {
      "cell_type": "code",
      "source": [],
      "metadata": {
        "id": "vzq08iACeoO-"
      },
      "id": "vzq08iACeoO-",
      "execution_count": null,
      "outputs": []
    }
  ],
  "metadata": {
    "kernelspec": {
      "display_name": "Python 3",
      "name": "python3"
    },
    "language_info": {
      "codemirror_mode": {
        "name": "ipython",
        "version": 3
      },
      "file_extension": ".py",
      "mimetype": "text/x-python",
      "name": "python",
      "nbconvert_exporter": "python",
      "pygments_lexer": "ipython3",
      "version": "3.10.6"
    },
    "toc": {
      "base_numbering": 1,
      "nav_menu": {},
      "number_sections": true,
      "sideBar": true,
      "skip_h1_title": false,
      "title_cell": "Table of Contents",
      "title_sidebar": "Contents",
      "toc_cell": false,
      "toc_position": {},
      "toc_section_display": true,
      "toc_window_display": false
    },
    "colab": {
      "provenance": []
    }
  },
  "nbformat": 4,
  "nbformat_minor": 5
}